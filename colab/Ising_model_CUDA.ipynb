{
  "nbformat": 4,
  "nbformat_minor": 0,
  "metadata": {
    "colab": {
      "name": "Ising-model-CUDA.ipynb",
      "provenance": [],
      "collapsed_sections": [
        "sMpEvZ7ARUWX",
        "bysJ6Xz6PKKF",
        "bf1s-JutL97w",
        "Dn4zVMQNMQpW",
        "aifKw9Px22IT",
        "B7NDRo8Pq4JB",
        "WPAHMIBk3luD",
        "diU-jH4BmuA0"
      ]
    },
    "kernelspec": {
      "name": "python3",
      "display_name": "Python 3"
    },
    "accelerator": "GPU"
  },
  "cells": [
    {
      "cell_type": "markdown",
      "metadata": {
        "id": "sMpEvZ7ARUWX",
        "colab_type": "text"
      },
      "source": [
        "# Install nvcc_plugin - Prepare Enviroment"
      ]
    },
    {
      "cell_type": "code",
      "metadata": {
        "id": "fL9I2G1JN6AV",
        "colab_type": "code",
        "outputId": "8c780979-c847-44c2-8afe-48b3d611c3c2",
        "colab": {
          "base_uri": "https://localhost:8080/",
          "height": 201
        }
      },
      "source": [
        "!pip install git+git://github.com/andreinechaev/nvcc4jupyter.git #from=> https://medium.com/@iphoenix179/running-cuda-c-c-in-jupyter-or-how-to-run-nvcc-in-google-colab-663d33f53772"
      ],
      "execution_count": 1,
      "outputs": [
        {
          "output_type": "stream",
          "text": [
            "Collecting git+git://github.com/andreinechaev/nvcc4jupyter.git\n",
            "  Cloning git://github.com/andreinechaev/nvcc4jupyter.git to /tmp/pip-req-build-yz1wwwf6\n",
            "  Running command git clone -q git://github.com/andreinechaev/nvcc4jupyter.git /tmp/pip-req-build-yz1wwwf6\n",
            "Building wheels for collected packages: NVCCPlugin\n",
            "  Building wheel for NVCCPlugin (setup.py) ... \u001b[?25l\u001b[?25hdone\n",
            "  Created wheel for NVCCPlugin: filename=NVCCPlugin-0.0.2-cp36-none-any.whl size=4307 sha256=81d3e2c71424cc22f13338e90c7194ecfd35cd6c7590a338220e4c91119ff770\n",
            "  Stored in directory: /tmp/pip-ephem-wheel-cache-4dthln1a/wheels/10/c2/05/ca241da37bff77d60d31a9174f988109c61ba989e4d4650516\n",
            "Successfully built NVCCPlugin\n",
            "Installing collected packages: NVCCPlugin\n",
            "Successfully installed NVCCPlugin-0.0.2\n"
          ],
          "name": "stdout"
        }
      ]
    },
    {
      "cell_type": "code",
      "metadata": {
        "id": "2K69fenoQu1L",
        "colab_type": "code",
        "outputId": "eb6bc643-74c3-463b-b76f-4a3471291c56",
        "colab": {
          "base_uri": "https://localhost:8080/",
          "height": 54
        }
      },
      "source": [
        "%load_ext nvcc_plugin "
      ],
      "execution_count": 2,
      "outputs": [
        {
          "output_type": "stream",
          "text": [
            "created output directory at /content/src\n",
            "Out bin /content/result.out\n"
          ],
          "name": "stdout"
        }
      ]
    },
    {
      "cell_type": "code",
      "metadata": {
        "id": "OufTAnMZXbQ-",
        "colab_type": "code",
        "outputId": "9c0afe1e-4b2f-4695-b71d-68309f2a0f37",
        "colab": {
          "base_uri": "https://localhost:8080/",
          "height": 90
        }
      },
      "source": [
        "!nvcc --version"
      ],
      "execution_count": 3,
      "outputs": [
        {
          "output_type": "stream",
          "text": [
            "nvcc: NVIDIA (R) Cuda compiler driver\n",
            "Copyright (c) 2005-2018 NVIDIA Corporation\n",
            "Built on Sat_Aug_25_21:08:01_CDT_2018\n",
            "Cuda compilation tools, release 10.0, V10.0.130\n"
          ],
          "name": "stdout"
        }
      ]
    },
    {
      "cell_type": "code",
      "metadata": {
        "id": "Ev_SGvcxa3v4",
        "colab_type": "code",
        "outputId": "98df9271-9d7c-4c07-bfa0-0a52bc323419",
        "colab": {
          "base_uri": "https://localhost:8080/",
          "height": 129
        }
      },
      "source": [
        "from google.colab import drive\n",
        "drive.mount('/content/gdrive')"
      ],
      "execution_count": 4,
      "outputs": [
        {
          "output_type": "stream",
          "text": [
            "Go to this URL in a browser: https://accounts.google.com/o/oauth2/auth?client_id=947318989803-6bn6qk8qdgf4n4g3pfee6491hc0brc4i.apps.googleusercontent.com&redirect_uri=urn%3aietf%3awg%3aoauth%3a2.0%3aoob&response_type=code&scope=email%20https%3a%2f%2fwww.googleapis.com%2fauth%2fdocs.test%20https%3a%2f%2fwww.googleapis.com%2fauth%2fdrive%20https%3a%2f%2fwww.googleapis.com%2fauth%2fdrive.photos.readonly%20https%3a%2f%2fwww.googleapis.com%2fauth%2fpeopleapi.readonly\n",
            "\n",
            "Enter your authorization code:\n",
            "··········\n",
            "Mounted at /content/gdrive\n"
          ],
          "name": "stdout"
        }
      ]
    },
    {
      "cell_type": "code",
      "metadata": {
        "id": "VRr_6oU0jf29",
        "colab_type": "code",
        "outputId": "1f1bf3f8-3ab8-4e86-be82-77f6e6f7202f",
        "colab": {
          "base_uri": "https://localhost:8080/",
          "height": 35
        }
      },
      "source": [
        "#create directories for project\n",
        "!mkdir src/\n",
        "!mkdir output/\n",
        "!mkdir benchmarks/\n",
        "!mkdir validation/\n",
        "!mkdir inc/\n",
        "!mkdir lib/"
      ],
      "execution_count": 5,
      "outputs": [
        {
          "output_type": "stream",
          "text": [
            "mkdir: cannot create directory ‘src/’: File exists\n"
          ],
          "name": "stdout"
        }
      ]
    },
    {
      "cell_type": "code",
      "metadata": {
        "id": "5oBsYbEvbFKY",
        "colab_type": "code",
        "colab": {}
      },
      "source": [
        "#copy conf folder with its files to my dir\n",
        "!cp -r /content/gdrive/My\\ Drive/ising/conf /content/"
      ],
      "execution_count": 0,
      "outputs": []
    },
    {
      "cell_type": "code",
      "metadata": {
        "id": "fcxTHxmuckUU",
        "colab_type": "code",
        "colab": {}
      },
      "source": [
        "#copy header file\n",
        "!cp -r /content/gdrive/My\\ Drive/ising/inc/ising.h /content/inc/"
      ],
      "execution_count": 0,
      "outputs": []
    },
    {
      "cell_type": "code",
      "metadata": {
        "id": "YgP7K9vQLvql",
        "colab_type": "code",
        "colab": {}
      },
      "source": [
        "#copy extra header file\n",
        "!cp -r /content/gdrive/My\\ Drive/ising/inc/cuda.h /content/inc/"
      ],
      "execution_count": 0,
      "outputs": []
    },
    {
      "cell_type": "markdown",
      "metadata": {
        "id": "bysJ6Xz6PKKF",
        "colab_type": "text"
      },
      "source": [
        "# Source files(v0,v1,v2,v3)"
      ]
    },
    {
      "cell_type": "code",
      "metadata": {
        "id": "SHXtb5uTbhSU",
        "colab_type": "code",
        "outputId": "8966f53e-1185-4c9c-a44e-3d2fdb5f9a61",
        "colab": {
          "base_uri": "https://localhost:8080/",
          "height": 35
        }
      },
      "source": [
        "%%writefile src/ising-sequential.c\n",
        "/*\n",
        "*       V0. Sequential: Simulation of an Ising model in two dimensions of size nxn for k iterations, staring from a uniform random initial state\n",
        "*       Author:Tsalidis Georgios 27/12/2019\n",
        "*       gtsalidis@ece.auth.gr\n",
        "*/\n",
        "\n",
        "\n",
        "#include <stdio.h>\n",
        "#include <stdlib.h>\n",
        "#include <string.h>\n",
        "#include \"../inc/ising.h\"\n",
        "\n",
        "// Ising model evolution\n",
        "/*\n",
        "  \\param G      Spins on the square lattice             [n-by-n]\n",
        "  \\param w      Weight matrix                           [5-by-5]\n",
        "  \\param k      Number of iterations                    [scalar]\n",
        "  \\param n      Number of lattice points per dim        [scalar]\n",
        "  NOTE: Both matrices G and w are stored in row-major format.\n",
        "*/\n",
        "void ising(int *G, double *w, int k, int n)\n",
        "{\n",
        "  int *g_tmp = new int[n*n]; //read from one\n",
        "\n",
        "\t// swap G and g_tmp pointeers for both matrixes\n",
        "\tint *swapg;\n",
        "\n",
        "\t// Variable to store the value of each moment\n",
        "\tdouble influence = 0;\n",
        " \n",
        "  // Indexes of neibghors checked\n",
        "\tint idx_X, idx_Y;\n",
        "\n",
        "\t//Iterate k times\n",
        "\tfor(int i = 0; i < k; i++)\n",
        "\t{\n",
        "\t\t//loop through G\n",
        "\t\tfor(int x=0; x<n; x++)\n",
        "\t\t\tfor(int y=0; y<n; y++)\n",
        "\t\t\t{\n",
        "\t\t\t\tinfluence = 0;\n",
        "\n",
        "\t\t\t\t// loop through the moment neighbors\n",
        "\t\t\t\tfor(int X=0; X<5; X++)\n",
        "\t\t\t\t\tfor(int Y=0; Y<5; Y++)\n",
        "\t\t\t\t\t{\n",
        "\t\t\t\t\t\t// find idx of checked point\n",
        "\t\t\t\t\t\tidx_X = (x + (X-2) + n) % n;\n",
        "\t\t\t\t\t\tidx_Y = (y + (Y-2) + n) % n;\n",
        "\n",
        "\t\t\t\t\t\tinfluence += *(w + Y*5 + X) * *(G +idx_Y*n + idx_X);\n",
        "\t\t\t\t\t}\n",
        "\n",
        "\t\t    //the value of the sign of influence If positive -> 1,If negative -> -1\n",
        "\t\t\t\tif(influence > 0.001)\n",
        "\t\t\t\t\t*(g_tmp + y*n + x) = 1;\n",
        "\t\t\t\telse if(influence < -0.001)\n",
        "\t\t\t\t\t*(g_tmp + y*n + x) = -1;\n",
        "\t\t\t\telse\n",
        "         //remains the same\n",
        "\t\t\t\t\t*(g_tmp + y*n + x) = *(G + y*n + x);\n",
        "\n",
        "  }\n",
        "\n",
        "\t\t// Swap pointers for next iteration\n",
        "\t\tswapg = G;\n",
        "\t\tG = g_tmp;\n",
        "\t\tg_tmp = swapg;\n",
        "\t}\n",
        "\n",
        "  // Handle situation for odd \n",
        "\tif(k%2 != 0)\n",
        "\t\tmemcpy(g_tmp, G, n*n*sizeof(int));\n",
        " \n",
        "}"
      ],
      "execution_count": 82,
      "outputs": [
        {
          "output_type": "stream",
          "text": [
            "Overwriting src/ising-sequential.c\n"
          ],
          "name": "stdout"
        }
      ]
    },
    {
      "cell_type": "code",
      "metadata": {
        "id": "bS8d_tJObhIV",
        "colab_type": "code",
        "outputId": "c502da02-cca9-4c5f-d091-ab5aad889f2e",
        "colab": {
          "base_uri": "https://localhost:8080/",
          "height": 35
        }
      },
      "source": [
        "%%writefile src/ising-v1.cu\n",
        "/*\n",
        "*       V1. GPU with one thread per moment \n",
        "*       Author:Tsalidis Georgios 2/1/2020\n",
        "*       gtsalidis@ece.auth.gr\n",
        "*/\n",
        "\n",
        "#include <iostream>\n",
        "#include <stdio.h>\n",
        "#include <stdlib.h>\n",
        "#include <string.h>\n",
        "#include \"../inc/ising.h\"\n",
        "\n",
        "#define BLOCK_SIZE 128 // value usually chosen by tuning and hardware constraints\n",
        "\n",
        "#define CUDA_CHECK_ERROR() __cuda_check_errors(__FILE__, __LINE__)\n",
        "\n",
        "// See: http://codeyarns.com/2011/03/02/how-to-do-error-checking-in-cuda/\n",
        "inline void\n",
        "__cuda_check_errors (const char *filename, const int line_number)\n",
        "{\n",
        "  cudaError err = cudaDeviceSynchronize ();\n",
        "  if (err != cudaSuccess)\n",
        "    {\n",
        "      printf (\"CUDA error %i at %s:%i: %s\\n\",\n",
        "          err, filename, line_number, cudaGetErrorString (err));\n",
        "      exit (-1);\n",
        "    }\n",
        "}\n",
        "\n",
        "\n",
        "__global__ void ising_kernel(double* gpu_w, int* gpu_G, int* gpu_Gtmp, int n);\n",
        "bool evaluate(int *G1,int *G2, int n);\n",
        "\n",
        "\n",
        "//kernel function used to calculate one moment per thread\n",
        "__global__ void ising_kernel(double* gpu_w, int* gpu_G, int* gpu_Gtmp, int n)\n",
        "{\n",
        "\t//calculate thread_id\n",
        "\tint thread_id = blockIdx.x*blockDim.x + threadIdx.x;\n",
        "\n",
        "\t// moments x,y coordinates\n",
        "\tint y = thread_id%n;\n",
        "\tint x = thread_id/n;\n",
        "\n",
        "\n",
        "\t// the value of each moment\n",
        "\tdouble influence;\n",
        "\t\n",
        "\t// Indexes of neibghors checked\n",
        "\tint idx_x, idx_y;\n",
        "\n",
        "\tif( thread_id < n*n )\n",
        "\t{\n",
        "\t\t// loop through the moment neighbors\n",
        "\t    for(int X=0; X<5; X++)\n",
        "\t        for(int Y=0; Y<5; Y++)\n",
        "\t        {\n",
        "\t\t\t\t// skips the current iteration of the loop and continues with the next iteration.\n",
        "\t            if((X == 2) && (Y == 2))\n",
        "\t                continue;  \n",
        "\t\t\t\t\n",
        "\t            //find idx of checked point\n",
        "\t            idx_x = (x + (X-2) + n) % n;\n",
        "\t            idx_y = (y + (Y-2) + n) % n;\n",
        "\n",
        "\t            influence += *(gpu_w + X*5 + Y) * *(gpu_G +idx_x*n + idx_y);\n",
        "\t        }\n",
        "\n",
        "\t    //the value of the sign of influence If positive -> 1,If negative -> -1\n",
        "\t\tif(influence > 0.0001)\n",
        "\t\t{\n",
        "\t\t\t*(gpu_Gtmp + x*n + y) = 1;\n",
        "\t\t}\n",
        "\t\telse if(influence < -0.0001)\n",
        "\t\t{\n",
        "\t\t\t*(gpu_Gtmp + x*n + y) = -1;\n",
        "\t\t}\n",
        "\t    else\n",
        "\t\t\t//remains the same\n",
        "\t        *(gpu_Gtmp + x*n + y) = *(gpu_G + x*n + y);\n",
        "\t}\n",
        "}\n",
        "\n",
        "void ising(int *G, double *w, int k, int n)\n",
        "{\n",
        "   \n",
        "\tdouble *gpu_w;\n",
        "\tint *gpu_G;\n",
        "\t\n",
        "\t// allocate weight array and G array\n",
        "\tcudaMalloc(&gpu_w, 5*5*sizeof(double));\n",
        "\tcudaMalloc(&gpu_G, n*n*sizeof(int));\n",
        "\t\n",
        "\t\n",
        "\t//transfer data to device(GPU)\n",
        "\tcudaMemcpy(gpu_w, w, 5*5*sizeof(double), cudaMemcpyHostToDevice);\n",
        "\tcudaMemcpy(gpu_G, G, n*n*sizeof(int), cudaMemcpyHostToDevice);\n",
        "\n",
        "\t//GPU array to store the updated values\n",
        "\tint *gpu_Gtmp;\n",
        "\tcudaMalloc(&gpu_Gtmp, n*n*sizeof(int));\n",
        "\n",
        "\t// gpu_G with gpu_Gtmp pointer swap\n",
        "\tint *temp;\n",
        "\n",
        "\tint blocks = (n*n + BLOCK_SIZE - 1)/BLOCK_SIZE;\n",
        "\t\n",
        "\t//run for k iterations\n",
        "\tfor(int i = 0; i < k; i++)\n",
        "\t{\n",
        "\t\t//run kernel function to device\n",
        "\t\tising_kernel<<< blocks , BLOCK_SIZE >>>(gpu_w, gpu_G, gpu_Gtmp, n);\n",
        "\t\tCUDA_CHECK_ERROR ();\n",
        "\n",
        "\t\t//Synchronize \n",
        "\t\tcudaDeviceSynchronize();\n",
        "\n",
        "\t\t//swap pointers \n",
        "\t\ttemp = gpu_G;\n",
        "\t\tgpu_G = gpu_Gtmp;\n",
        "\t\tgpu_Gtmp = temp;\n",
        "\t}\n",
        "\n",
        "\tcudaMemcpy(G, gpu_G, n*n*sizeof(int), cudaMemcpyDeviceToHost);\n",
        "\n",
        "\t// free GPU memory\n",
        "\tcudaFree(gpu_w);\n",
        "\tcudaFree(gpu_G);\n",
        "\tcudaFree(gpu_Gtmp);\n",
        "}"
      ],
      "execution_count": 83,
      "outputs": [
        {
          "output_type": "stream",
          "text": [
            "Overwriting src/ising-v1.cu\n"
          ],
          "name": "stdout"
        }
      ]
    },
    {
      "cell_type": "code",
      "metadata": {
        "id": "uOhiLoecMZ8u",
        "colab_type": "code",
        "colab": {
          "base_uri": "https://localhost:8080/",
          "height": 35
        },
        "outputId": "f0668474-4749-4e8f-eb29-8efdbb40b883"
      },
      "source": [
        "%%writefile src/ising-v2.cu\n",
        "/*\n",
        "*       V2. GPU with one thread computing a block of moments\n",
        "*       Author:Tsalidis Georgios 5/1/2020\n",
        "*       gtsalidis@ece.auth.gr\n",
        "*/\n",
        "\n",
        "#include <iostream>\n",
        "#include <stdio.h>\n",
        "#include <stdlib.h>\n",
        "#include <string.h>\n",
        "#include \"../inc/ising.h\"\n",
        "\n",
        "#define BLOCK_SIZE 128 // value usually chosen by tuning and hardware constraints\n",
        "#define CUDA_CHECK_ERROR() __cuda_check_errors(__FILE__, __LINE__)\n",
        "\n",
        "// See: http://codeyarns.com/2011/03/02/how-to-do-error-checking-in-cuda/\n",
        "inline void\n",
        "__cuda_check_errors (const char *filename, const int line_number)\n",
        "{\n",
        "  cudaError err = cudaDeviceSynchronize ();\n",
        "  if (err != cudaSuccess)\n",
        "    {\n",
        "      printf (\"CUDA error %i at %s:%i: %s\\n\",\n",
        "          err, filename, line_number, cudaGetErrorString (err));\n",
        "      exit (-1);\n",
        "    }\n",
        "}\n",
        "\n",
        "\n",
        "__global__ void ising_kernel(double* gpu_w, int* gpu_G, int* gpu_Gtmp, int n);\n",
        "bool evaluate(int *G1,int *G2, int n);\n",
        "\n",
        "\n",
        "//kernel function used to calculate one thread with a block of moments\n",
        "__global__ void ising_kernel(double* gpu_w, int* gpu_G, int* gpu_Gtmp, int n)\n",
        "{\n",
        "\t//calculate thread_id\n",
        "\tint thread_id = blockIdx.x*blockDim.x + threadIdx.x;\n",
        "\n",
        "\t// the value of each moment\n",
        "\tdouble influence;\n",
        "\n",
        "\t// moments x,y coordinates\n",
        "\tint x, y;\n",
        "\t \n",
        "\t// Indexes of neibghors checked\n",
        "\tint idx_x, idx_y;\n",
        "\tint next_thr = gridDim.x*blockDim.x;\n",
        "\n",
        "\t//each thread to compute a block of moments\n",
        "\tfor(int thread = thread_id; thread<n*n; thread+= next_thr)\n",
        "\t{\n",
        "\t\t// moments x,y coordinates\n",
        "\t\ty = thread%n;\n",
        "\t\tx = thread/n;\n",
        "\t\tinfluence = 0;\n",
        "\t\t// loop through the moment neighbors\n",
        "\t    for(int X=0; X<5; X++)\n",
        "\t        for(int Y=0; Y<5; Y++)\n",
        "\t        {\n",
        "\t\t\t\t// skips the current iteration of the loop and continues with the next iteration.\n",
        "\t            if((X == 2) && (Y == 2))\n",
        "\t                continue;  \n",
        "\t\t\t\t\n",
        "\t            //find idx of checked point\n",
        "\t            idx_x = (x + (X-2) + n) % n;\n",
        "\t            idx_y = (y + (Y-2) + n) % n;\n",
        "\n",
        "\t            influence += *(gpu_w + X*5 + Y) * *(gpu_G +idx_x*n + idx_y);\n",
        "\t        }\n",
        "\n",
        "\t    //the value of the sign of influence If positive -> 1,If negative -> -1\n",
        "\t\tif(influence > 0.0001)\n",
        "\t\t{\n",
        "\t\t\t*(gpu_Gtmp + x*n + y) = 1;\n",
        "\t\t}\n",
        "\t\telse if(influence < -0.0001)\n",
        "\t\t{\n",
        "\t\t\t*(gpu_Gtmp + x*n + y) = -1;\n",
        "\t\t}\n",
        "\t    else\n",
        "\t\t\t//remains the same\n",
        "\t        *(gpu_Gtmp + x*n + y) = *(gpu_G + x*n + y);\n",
        "\t}\n",
        "}\n",
        "\n",
        "\n",
        "void ising(int *G, double *w, int k, int n)\n",
        "{\n",
        "   \n",
        "\tdouble *gpu_w;\n",
        "\tint *gpu_G;\n",
        "\t\n",
        "\t// allocate weight array and G array\n",
        "\tcudaMalloc(&gpu_w, 5*5*sizeof(double));\n",
        "\tcudaMalloc(&gpu_G, n*n*sizeof(int));\n",
        "\t\n",
        "\t\n",
        "\t//transfer data to device(GPU)\n",
        "\tcudaMemcpy(gpu_w, w, 5*5*sizeof(double), cudaMemcpyHostToDevice);\n",
        "\tcudaMemcpy(gpu_G, G, n*n*sizeof(int), cudaMemcpyHostToDevice);\n",
        "\n",
        "\t//GPU array to store the updated values\n",
        "\tint *gpu_Gtmp;\n",
        "\tcudaMalloc(&gpu_Gtmp, n*n*sizeof(int));\n",
        "\n",
        "\t// gpu_G with gpu_Gtmp pointer swap\n",
        "\tint *temp;\n",
        "\n",
        "\t//dim3 dimBlock(BLOCK_SIZE,BLOCK_SIZE);\n",
        "\t//dim3 dimGrid(GRID_DIM_X,GRID_DIM_Y);\n",
        "\tint block = BLOCK_SIZE;\n",
        "\tint grid = (n + block -1)/block;\n",
        "\n",
        "\t//run for k iterations\n",
        "\tfor(int i = 0; i < k; i++)\n",
        "\t{\n",
        "\t\t//run kernel function to device\n",
        "\t\tising_kernel<<< grid , block >>>(gpu_w, gpu_G, gpu_Gtmp, n);\n",
        "\t\t\n",
        "\t\t//check for device errors\n",
        "\t\tCUDA_CHECK_ERROR ();\n",
        "\t\t\n",
        "\t\t//Synchronize \n",
        "\t\tcudaDeviceSynchronize();\n",
        "\n",
        "\t\t//swap pointers \n",
        "\t\ttemp = gpu_G;\n",
        "\t\tgpu_G = gpu_Gtmp;\n",
        "\t\tgpu_Gtmp = temp;\n",
        "\t}\n",
        "\n",
        "\tcudaMemcpy(G, gpu_G, n*n*sizeof(int), cudaMemcpyDeviceToHost);\n",
        "\n",
        "\t// free GPU memory\n",
        "\tcudaFree(gpu_w);\n",
        "\tcudaFree(gpu_G);\n",
        "\tcudaFree(gpu_Gtmp);\n",
        "}\n"
      ],
      "execution_count": 84,
      "outputs": [
        {
          "output_type": "stream",
          "text": [
            "Overwriting src/ising-v2.cu\n"
          ],
          "name": "stdout"
        }
      ]
    },
    {
      "cell_type": "code",
      "metadata": {
        "id": "YK4ciUJrMmgm",
        "colab_type": "code",
        "colab": {
          "base_uri": "https://localhost:8080/",
          "height": 35
        },
        "outputId": "ca81fb41-c15d-44c1-9fed-6373be59766f"
      },
      "source": [
        "%%writefile src/ising-v3.cu\n",
        "/*\n",
        "*       V3. GPU with multiple thread sharing common input moments\n",
        "*       Author:Tsalidis Georgios 5/1/2020\n",
        "*       gtsalidis@ece.auth.gr\n",
        "*/\n",
        "\n",
        "#include <iostream>\n",
        "#include <stdio.h>\n",
        "#include <stdlib.h>\n",
        "#include <string.h>\n",
        "#include \"../inc/ising.h\"\n",
        "\n",
        "#define CUDA_CHECK_ERROR() __cuda_check_errors(__FILE__, __LINE__)\n",
        "#define LEN 2\n",
        "\n",
        "#define BLOCK_X 128\n",
        "#define BLOCK_Y 24\n",
        "#define GRID_X 4\n",
        "#define GRID_Y 4\n",
        "\n",
        "\n",
        "// See: http://codeyarns.com/2011/03/02/how-to-do-error-checking-in-cuda/\n",
        "inline void\n",
        "__cuda_check_errors (const char *filename, const int line_number)\n",
        "{\n",
        "  cudaError err = cudaDeviceSynchronize ();\n",
        "  if (err != cudaSuccess)\n",
        "    {\n",
        "      printf (\"CUDA error %i at %s:%i: %s\\n\",\n",
        "          err, filename, line_number, cudaGetErrorString (err));\n",
        "      exit (-1);\n",
        "    }\n",
        "}\n",
        "\n",
        "\n",
        "__global__ void ising_kernel(double* gpu_w, int* gpu_G, int* gpu_Gtmp, int n);\n",
        "bool evaluate(int *G1,int *G2, int n);\n",
        "\n",
        "\n",
        "//kernel function used to calculate one thread with a block of moments\n",
        "__global__ void ising_kernel(double* gpu_w, int* gpu_G, int* gpu_Gtmp, int n)\n",
        "{\n",
        "    int s_ncols = blockDim.x + 2*LEN;//num of  rows\n",
        " \n",
        "    __shared__ double s_w[5*5];\n",
        "    __shared__ int s_G[(BLOCK_X+2*LEN) * (BLOCK_Y+2*LEN)];\n",
        "\n",
        "\n",
        "    for(int i=0; i<5*5; i++){\n",
        "        *(s_w + i) = *(gpu_w+i);\n",
        "    }\n",
        "\n",
        "\t// the value of each moment\n",
        "\tdouble influence;\n",
        "\n",
        "\t// moments x,y coordinates\n",
        "\tint x = blockDim.x*blockIdx.x + threadIdx.x;\n",
        "    int y = blockDim.y*blockIdx.y + threadIdx.y;\n",
        "\n",
        "\tint s_x = threadIdx.x + LEN;\n",
        "    int s_y = threadIdx.y + LEN;\n",
        " \n",
        "    //thread increament\n",
        "    int next_x = blockDim.x *gridDim.x ;\n",
        "    int next_y = blockDim.y *gridDim.y ;\n",
        "\n",
        "    //cordinates for neibghors on shared\n",
        "    int n_x, n_y;\n",
        "\n",
        "\t// Indexes of neibghors checked\n",
        "\tint idx_x, idx_y;\n",
        "\n",
        "\t//each thread to compute a block of moments\n",
        "\tfor(int i = x; i< n + LEN; i+= next_x)\n",
        "\t{\n",
        "        for(int j = y; j< n + LEN; j+= next_y)\n",
        "        {\n",
        "\n",
        "            *(s_G + s_x*s_ncols + s_y) = *(gpu_G + ((i + n)%n)*n +  (j + n)%n);\n",
        "         \n",
        "         \n",
        "\t\t\t//For right and left\n",
        "\t\t\tif(threadIdx.x < LEN)\n",
        "\t\t\t{\n",
        "\t\t\t\tn_x = s_x;\n",
        "\t\t\t\tidx_x = (i + n)%n;\n",
        "\n",
        "\t\t\t\tfor(int p=0; p<2; p++)\n",
        "\t\t\t\t{\n",
        "\t\t\t\t\tint count = (p-1)*LEN + p*blockDim.x;\n",
        "\t\t\t\t\tn_y = s_y + count;\n",
        "\t\t\t\t\tidx_y = (j + count + n)%n;\n",
        "\t\t\t\t\ts_G[n_x*s_ncols + n_y] = gpu_G[idx_x*n + idx_y];\n",
        "\t\t\t\t}\n",
        "\t\t\t}\n",
        "\n",
        "\t\t\t//For bot and top\n",
        "\t\t\tif(threadIdx.y < LEN)\n",
        "\t\t\t{\n",
        "\t\t\t\tn_y = s_y;\n",
        "\t\t\t\tidx_y = (j + n)%n;\n",
        "\n",
        "\t\t\t\tfor(int p=0; p<2; p++)\n",
        "\t\t\t\t{\n",
        "\t\t\t\t\tint count = (p-1)*LEN + p*blockDim.y;\n",
        "\t\t\t\t\tn_x = s_x + count;\n",
        "\t\t\t\t\tidx_x = (i + count + n)%n;\n",
        "\t\t\t\t\ts_G[n_x*s_ncols + n_y] = gpu_G[idx_x*n + idx_y];\n",
        "\t\t\t\t}\n",
        "\t\t\t}\n",
        "\n",
        "\t\t\t//For corners\n",
        "\t\t\tif( (threadIdx.x < LEN) && (threadIdx.y<LEN) )\n",
        "\t\t\t{\n",
        "\t\t\t\tfor(int p=0; p<4; p++)\n",
        "\t\t\t\t{\n",
        "\t\t\t\t\tint count_x = (p%2 - 1)*LEN + (p%2)*blockDim.y;\n",
        "\t\t\t\t\tn_x = s_x + count_x;\n",
        "\t\t\t\t\tidx_x = (i + count_x + n)%n;\n",
        "\n",
        "\t\t\t\t\tint count_y = ((p+3)%(p+1)/2 - 1)*LEN + ((p+3)%(p+1)/2)*blockDim.x;\n",
        "\t\t\t\t\tn_y = s_y + count_y;\n",
        "\t\t\t\t\tidx_y = (j + count_y + n)%n;\n",
        "\n",
        "\t\t\t\t\ts_G[n_x*s_ncols + n_y] = gpu_G[idx_x*n + idx_y];\n",
        "\t\t\t\t}\n",
        "\t\t\t}\n",
        "\n",
        "\t\t\t// Synchronize threads\n",
        "\t\t\t__syncthreads();\n",
        "\n",
        "            if(i<n && j<n){\n",
        "                influence = 0;\n",
        "                // loop through the moment neighbors\n",
        "                for(int X=0; X<5; X++)\n",
        "                    for(int Y=0; Y<5; Y++)\n",
        "                    {\n",
        "                        // skips the current iteration of the loop and continues with the next iteration.\n",
        "                        if((X == 2) && (Y == 2))\n",
        "                            continue;  \n",
        "                        \n",
        "                        //find idx of checked point\n",
        "                        idx_x = (x + (X-2) + n) % n;\n",
        "                        idx_y = (y + (Y-2) + n) % n;\n",
        "                     \n",
        "                        influence += *(s_w + X*5 + Y) * *(s_G + (2+X+s_x)*s_ncols + (Y+s_x));\n",
        "                    }\n",
        "\n",
        "                //the value of the sign of influence If positive -> 1,If negative -> -1\n",
        "                if(influence > 0.0001)\n",
        "                {\n",
        "                    *(gpu_Gtmp + i*n + j) = 1;\n",
        "                }\n",
        "                else if(influence < -0.0001)\n",
        "                {\n",
        "                    *(gpu_Gtmp + i*n + j) = -1;\n",
        "                }\n",
        "                else\n",
        "                    //remains the same\n",
        "                    *(gpu_Gtmp + i*n + j) = *(s_G + s_x*s_ncols + s_y);\n",
        "            }\n",
        "         __syncthreads();\n",
        "        }\n",
        "\t}\n",
        "}\n",
        "\n",
        "void ising(int *G, double *w, int k, int n)\n",
        "{\n",
        "   \n",
        "\tdouble *gpu_w;\n",
        "\tint *gpu_G;\n",
        "\t\n",
        "\t// allocate weight array and G array\n",
        "\tcudaMalloc(&gpu_w, 5*5*sizeof(double));\n",
        "\tcudaMalloc(&gpu_G, n*n*sizeof(int));\n",
        "\t\n",
        "\t\n",
        "\t//transfer data to device(GPU)\n",
        "\tcudaMemcpy(gpu_w, w, 5*5*sizeof(double), cudaMemcpyHostToDevice);\n",
        "\tcudaMemcpy(gpu_G, G, n*n*sizeof(int), cudaMemcpyHostToDevice);\n",
        "\n",
        "\t//GPU array to store the updated values\n",
        "\tint *gpu_Gtmp;\n",
        "\tcudaMalloc(&gpu_Gtmp, n*n*sizeof(int));\n",
        "\n",
        "\t// gpu_G with gpu_Gtmp pointer swap\n",
        "\tint *temp;\n",
        "\n",
        "    //initialize blocks and threads => dim3 is an integer vector type based on uint3 \n",
        "    //that is used to specify dimensions. When defining a variable of type dim3, any component left unspecified is initialized to 1\n",
        "\n",
        "    dim3 block(BLOCK_X,BLOCK_Y); // blockDim\n",
        "    dim3 grid(GRID_X,GRID_Y); // gridDim\n",
        "\n",
        "\t//run for k iterations\n",
        "\tfor(int i = 0; i < k; i++)\n",
        "\t{\n",
        "\n",
        "\t\t//run kernel function to device\n",
        "\t\tising_kernel<<< grid , block >>>(gpu_w, gpu_G, gpu_Gtmp, n);\n",
        "  \n",
        "\t\t//check for device errors\n",
        "\t\tCUDA_CHECK_ERROR ();\n",
        "\t\t\n",
        "\t\t//Synchronize \n",
        "\t\tcudaDeviceSynchronize();\n",
        "\n",
        "\t\t//swap pointers \n",
        "\t\ttemp = gpu_G;\n",
        "\t\tgpu_G = gpu_Gtmp;\n",
        "\t\tgpu_Gtmp = temp;\n",
        "\t}\n",
        "\n",
        "\tcudaMemcpy(G, gpu_G, n*n*sizeof(int), cudaMemcpyDeviceToHost);\n",
        "\n",
        "\t// free GPU memory\n",
        "\tcudaFree(gpu_w);\n",
        "\tcudaFree(gpu_G);\n",
        "\tcudaFree(gpu_Gtmp);\n",
        "}\n"
      ],
      "execution_count": 85,
      "outputs": [
        {
          "output_type": "stream",
          "text": [
            "Overwriting src/ising-v3.cu\n"
          ],
          "name": "stdout"
        }
      ]
    },
    {
      "cell_type": "markdown",
      "metadata": {
        "id": "bf1s-JutL97w",
        "colab_type": "text"
      },
      "source": [
        "# Validation Source"
      ]
    },
    {
      "cell_type": "code",
      "metadata": {
        "id": "Qrxs3ZiqMDAu",
        "colab_type": "code",
        "colab": {
          "base_uri": "https://localhost:8080/",
          "height": 35
        },
        "outputId": "c85a7e3e-9210-417e-a42f-f3bc6eefe232"
      },
      "source": [
        "%%writefile validation/main_validate.c\n",
        "#include <stdio.h>\n",
        "#include <stdlib.h>\n",
        "#include <string.h>\n",
        "#include \"../inc/ising.h\"\n",
        "\n",
        "bool evaluate(int *G1,int *G2, int n ){\n",
        "  for(int i=0;i<n*n;i++){\n",
        "    if(G1[i]!=G2[i]){\n",
        "      return false;\n",
        "    }\n",
        "  }\n",
        "  return true;\n",
        "}\n",
        "\n",
        "\n",
        "int main() {\n",
        "  \n",
        "    int n = 517;\n",
        "    //int k = 11;\n",
        "\n",
        "    // weight matrix 𝑤 \n",
        "    double weights[] = {0.004, 0.016, 0.026, 0.016, 0.004,\n",
        "                \t\t0.016, 0.071, 0.117, 0.071, 0.016,\n",
        "            \t\t\t0.026, 0.117, 0    , 0.117, 0.026,\n",
        "            \t\t\t0.016, 0.071, 0.117, 0.071, 0.016,\n",
        "            \t\t\t0.004, 0.016, 0.026, 0.016, 0.004};\n",
        "\n",
        "\n",
        "    //Getting the initial situation of the lattice\n",
        "    int *data =(int *)malloc((size_t)sizeof(int)*n*n);\n",
        "    FILE *f = fopen(\"conf/conf-init.bin\", \"rb\");\n",
        "    fread(data,sizeof(int),n*n,f); // read bytes to our buffer\n",
        "\n",
        "    int *stateInit =(int *)malloc((size_t)sizeof(int)*n*n);\n",
        "    memcpy (stateInit, data, (size_t)sizeof(int)*n*n);\n",
        "\n",
        "    //validate for k=1 \n",
        "    memcpy (stateInit, data, (size_t)sizeof(int)*n*n);\n",
        "    //Run ising proc\n",
        "    ising(stateInit, weights,1, n);\n",
        "\n",
        "    int *stateNxt_1 =(int *)malloc((size_t)sizeof(int)*n*n);\n",
        "    FILE * fptr_1 = fopen(\"conf/conf-1.bin\", \"rb\");\n",
        "    fread(stateNxt_1,sizeof(int),n*n,fptr_1); // read file\n",
        "    \n",
        "    bool result_1 = evaluate(stateInit,stateNxt_1,n);\n",
        "    if(result_1)\n",
        "      printf(\"k=1: CORRECT \\n\");\n",
        "    else\n",
        "      printf(\"k=1: WRONG \\n\");\n",
        "    \n",
        "    free(stateNxt_1);\n",
        "\n",
        "    //validate for k=4 \n",
        "    memcpy (stateInit, data, (size_t)sizeof(int)*n*n);\n",
        "    //Run ising proc\n",
        "    ising(stateInit, weights,4, n);\n",
        "\n",
        "    int *stateNxt_4 =(int *)malloc((size_t)sizeof(int)*n*n);\n",
        "    FILE * fptr_4 = fopen(\"conf/conf-4.bin\", \"rb\");\n",
        "    fread(stateNxt_4,sizeof(int),n*n,fptr_4); // read file\n",
        "   \n",
        "    bool result_4=evaluate(stateInit,stateNxt_4,n);\n",
        "    if(result_4)\n",
        "      printf(\"k=4: CORRECT \\n\");\n",
        "    else\n",
        "      printf(\"k=4: WRONG \\n\");\n",
        "  \n",
        "    free(stateNxt_4);\n",
        "\n",
        "    //validate for k=11 \n",
        "    memcpy (stateInit, data, (size_t)sizeof(int)*n*n);\n",
        "    //Run ising proc\n",
        "    ising(stateInit, weights,11, n);\n",
        "\n",
        "    int *stateNxt_11 =(int *)malloc((size_t)sizeof(int)*n*n);\n",
        "    FILE * fptr_11 = fopen(\"conf/conf-11.bin\", \"rb\");\n",
        "    fread(stateNxt_11,sizeof(int),n*n,fptr_11); // read file\n",
        "   \n",
        "    bool result_11=evaluate(stateInit,stateNxt_11,n);\n",
        "    if(result_11)\n",
        "       printf(\"k=11: CORRECT \\n\");\n",
        "    else\n",
        "       printf(\"k=11: WRONG \\n\");\n",
        "\n",
        "    free(stateNxt_11);\n",
        "\n",
        "    return 0;\n",
        "}"
      ],
      "execution_count": 86,
      "outputs": [
        {
          "output_type": "stream",
          "text": [
            "Overwriting validation/main_validate.c\n"
          ],
          "name": "stdout"
        }
      ]
    },
    {
      "cell_type": "code",
      "metadata": {
        "id": "xuaDyBp3MDb9",
        "colab_type": "code",
        "colab": {
          "base_uri": "https://localhost:8080/",
          "height": 35
        },
        "outputId": "b8459327-2e23-48fb-e9b2-facf9c3a7073"
      },
      "source": [
        "%%writefile validation/main_validate_cuda.cu\n",
        "#include <iostream>\n",
        "#include <stdio.h>\n",
        "#include <stdlib.h>\n",
        "#include <string.h>\n",
        "#include \"../inc/ising.h\"\n",
        "\n",
        "//function for validation \n",
        "bool evaluate(int *G1,int *G2, int n ){\n",
        "  for(int i=0;i<n*n;i++){\n",
        "    if(G1[i]!=G2[i]){\n",
        "      return false;\n",
        "    }\n",
        "  }\n",
        "  return true;\n",
        "}\n",
        "\n",
        "int main() {\n",
        "    \n",
        "    int n = 517;\n",
        "    //int k = 11;\n",
        "\n",
        "    // weight matrix 𝑤 \n",
        "    double weights[] = {0.004, 0.016, 0.026, 0.016, 0.004,\n",
        "                \t\t0.016, 0.071, 0.117, 0.071, 0.016,\n",
        "            \t\t\t0.026, 0.117, 0    , 0.117, 0.026,\n",
        "            \t\t\t0.016, 0.071, 0.117, 0.071, 0.016,\n",
        "            \t\t\t0.004, 0.016, 0.026, 0.016, 0.004};\n",
        "\n",
        "\n",
        "    //Getting the initial situation of the lattice\n",
        "    int *data =(int *)malloc((size_t)sizeof(int)*n*n);\n",
        "    FILE *f = fopen(\"conf/conf-init.bin\", \"rb\");\n",
        "    fread(data,sizeof(int),n*n,f); // read bytes to our buffer\n",
        "\n",
        "    int *stateInit =(int *)malloc((size_t)sizeof(int)*n*n);\n",
        "    memcpy (stateInit, data, (size_t)sizeof(int)*n*n);\n",
        "\n",
        "    //validate for k=1 \n",
        "    memcpy (stateInit, data, (size_t)sizeof(int)*n*n);\n",
        "    \n",
        "\tcudaEvent_t start1, stop1;\n",
        "\tcudaEventCreate(&start1);\n",
        "\tcudaEventCreate(&stop1);\n",
        "\tcudaEventRecord(start1);\n",
        "\n",
        "    //Run ising proc\n",
        "    ising(stateInit, weights,1, n);\n",
        "\n",
        "\tcudaEventRecord(stop1);\n",
        "\tcudaEventSynchronize(stop1);\n",
        "\tfloat time1 = 0;\n",
        "\tcudaEventElapsedTime(&time1, start1, stop1);\n",
        "\n",
        "    \n",
        "    //Run ising proc\n",
        "    //ising(stateInit, weights,1, n);\n",
        "\n",
        "    int *stateNxt_1 =(int *)malloc((size_t)sizeof(int)*n*n);\n",
        "    FILE * fptr_1 = fopen(\"conf/conf-1.bin\", \"rb\");\n",
        "    fread(stateNxt_1,sizeof(int),n*n,fptr_1); // read file\n",
        "    \n",
        "    bool result_1 = evaluate(stateInit,stateNxt_1,n);\n",
        "    if(result_1)\n",
        "      printf(\"k=1: CORRECT \\n\");\n",
        "    else\n",
        "      printf(\"k=1: WRONG \\n\");\n",
        "    \n",
        "    free(stateNxt_1);\n",
        "\n",
        "    //validate for k=4 \n",
        "    memcpy (stateInit, data, (size_t)sizeof(int)*n*n);\n",
        "\n",
        "\tcudaEvent_t start4, stop4;\n",
        "\tcudaEventCreate(&start4);\n",
        "\tcudaEventCreate(&stop4);\n",
        "\tcudaEventRecord(start4);\n",
        "\n",
        "    //Run ising proc\n",
        "    ising(stateInit, weights,4, n);\n",
        "\n",
        "\tcudaEventRecord(stop4);\n",
        "\tcudaEventSynchronize(stop4);\n",
        "\tfloat time4 = 0;\n",
        "\tcudaEventElapsedTime(&time4, start4, stop4);\n",
        "\n",
        "\n",
        "    int *stateNxt_4 =(int *)malloc((size_t)sizeof(int)*n*n);\n",
        "    FILE * fptr_4 = fopen(\"conf/conf-4.bin\", \"rb\");\n",
        "    fread(stateNxt_4,sizeof(int),n*n,fptr_4); // read file\n",
        "   \n",
        "    bool result_4=evaluate(stateInit,stateNxt_4,n);\n",
        "    if(result_4)\n",
        "      printf(\"k=4: CORRECT \\n\");\n",
        "    else\n",
        "      printf(\"k=4: WRONG \\n\");\n",
        "  \n",
        "    free(stateNxt_4);\n",
        "\n",
        "    //validate for k=11 \n",
        "    memcpy (stateInit, data, (size_t)sizeof(int)*n*n);\n",
        "\n",
        "\tcudaEvent_t start11, stop11;\n",
        "\tcudaEventCreate(&start11);\n",
        "\tcudaEventCreate(&stop11);\n",
        "\tcudaEventRecord(start11);\n",
        "    \n",
        "    //Run ising proc\n",
        "    ising(stateInit, weights,11, n);\n",
        "\n",
        "\tcudaEventRecord(stop11);\n",
        "\tcudaEventSynchronize(stop11);\n",
        "\tfloat time11 = 0;\n",
        "\tcudaEventElapsedTime(&time11, start11, stop11);\n",
        "\n",
        "\n",
        "\n",
        "    int *stateNxt_11 =(int *)malloc((size_t)sizeof(int)*n*n);\n",
        "    FILE * fptr_11 = fopen(\"conf/conf-11.bin\", \"rb\");\n",
        "    fread(stateNxt_11,sizeof(int),n*n,fptr_11); // read file\n",
        "   \n",
        "    bool result_11=evaluate(stateInit,stateNxt_11,n);\n",
        "    if(result_11)\n",
        "       printf(\"k=11: CORRECT \\n\");\n",
        "    else\n",
        "       printf(\"k=11: WRONG \\n\");\n",
        "\n",
        "    free(stateNxt_11);\n",
        "\n",
        "    return 0;\n",
        "}"
      ],
      "execution_count": 87,
      "outputs": [
        {
          "output_type": "stream",
          "text": [
            "Overwriting validation/main_validate_cuda.cu\n"
          ],
          "name": "stdout"
        }
      ]
    },
    {
      "cell_type": "markdown",
      "metadata": {
        "id": "Dn4zVMQNMQpW",
        "colab_type": "text"
      },
      "source": [
        "# Run Validation\n"
      ]
    },
    {
      "cell_type": "code",
      "metadata": {
        "id": "26JAo2JsNchv",
        "colab_type": "code",
        "colab": {
          "base_uri": "https://localhost:8080/",
          "height": 72
        },
        "outputId": "78d7636a-3a96-43c8-f89f-b03fa9ea8bde"
      },
      "source": [
        "!g++ src/ising-sequential.c validation/main_validate.c -o output/validate_v0 && ./output/validate_v0"
      ],
      "execution_count": 96,
      "outputs": [
        {
          "output_type": "stream",
          "text": [
            "k=1: CORRECT \n",
            "k=4: CORRECT \n",
            "k=11: CORRECT \n"
          ],
          "name": "stdout"
        }
      ]
    },
    {
      "cell_type": "code",
      "metadata": {
        "id": "djjbmKTHka4r",
        "colab_type": "code",
        "outputId": "03ff746b-974c-4c2a-f619-269bd8679740",
        "colab": {
          "base_uri": "https://localhost:8080/",
          "height": 72
        }
      },
      "source": [
        "!nvcc src/ising-v1.cu validation/main_validate_cuda.cu -o output/validate_v1 && ./output/validate_v1"
      ],
      "execution_count": 97,
      "outputs": [
        {
          "output_type": "stream",
          "text": [
            "k=1: CORRECT \n",
            "k=4: CORRECT \n",
            "k=11: CORRECT \n"
          ],
          "name": "stdout"
        }
      ]
    },
    {
      "cell_type": "code",
      "metadata": {
        "id": "hnbMbwK_OmaW",
        "colab_type": "code",
        "colab": {
          "base_uri": "https://localhost:8080/",
          "height": 72
        },
        "outputId": "be9f57c8-b79f-4744-c54b-90b60ca47325"
      },
      "source": [
        "!nvcc src/ising-v2.cu validation/main_validate_cuda.cu -o output/validate_v2 && ./output/validate_v2"
      ],
      "execution_count": 98,
      "outputs": [
        {
          "output_type": "stream",
          "text": [
            "k=1: CORRECT \n",
            "k=4: CORRECT \n",
            "k=11: CORRECT \n"
          ],
          "name": "stdout"
        }
      ]
    },
    {
      "cell_type": "code",
      "metadata": {
        "id": "dJylXJt7Oqj1",
        "colab_type": "code",
        "colab": {
          "base_uri": "https://localhost:8080/",
          "height": 72
        },
        "outputId": "f10898f6-a7c3-479e-8faa-f0e73bac532f"
      },
      "source": [
        "!nvcc src/ising-v3.cu validation/main_validate_cuda.cu -o output/validate_v3 && ./output/validate_v3"
      ],
      "execution_count": 99,
      "outputs": [
        {
          "output_type": "stream",
          "text": [
            "k=1: WRONG \n",
            "k=4: WRONG \n",
            "k=11: WRONG \n"
          ],
          "name": "stdout"
        }
      ]
    },
    {
      "cell_type": "markdown",
      "metadata": {
        "id": "aifKw9Px22IT",
        "colab_type": "text"
      },
      "source": [
        "# NV Profiling and Mem Checking"
      ]
    },
    {
      "cell_type": "code",
      "metadata": {
        "id": "Prg3LgFOBRU5",
        "colab_type": "code",
        "outputId": "693481d3-c821-4b79-e125-b1846b80ea02",
        "colab": {
          "base_uri": "https://localhost:8080/",
          "height": 459
        }
      },
      "source": [
        "!nvprof ./output/validate_v1"
      ],
      "execution_count": 0,
      "outputs": [
        {
          "output_type": "stream",
          "text": [
            "==2061== NVPROF is profiling process 2061, command: ./output/validate_v1\n",
            "k=1: CORRECT \n",
            "k=4: CORRECT \n",
            "k=11: CORRECT \n",
            "==2061== Profiling application: ./output/validate_v1\n",
            "==2061== Profiling result:\n",
            "            Type  Time(%)      Time     Calls       Avg       Min       Max  Name\n",
            " GPU activities:   90.79%  5.3380ms        16  333.63us  332.74us  334.43us  ising_kernel(double*, int*, int*, int)\n",
            "                    4.81%  282.53us         6  47.088us  1.8560us  92.640us  [CUDA memcpy HtoD]\n",
            "                    4.40%  258.91us         3  86.304us  85.120us  88.384us  [CUDA memcpy DtoH]\n",
            "      API calls:   95.47%  197.65ms         6  32.942ms     770ns  197.64ms  cudaEventCreate\n",
            "                    2.63%  5.4380ms        32  169.94us  1.4330us  344.50us  cudaDeviceSynchronize\n",
            "                    0.76%  1.5814ms         9  175.71us  14.475us  292.44us  cudaMemcpy\n",
            "                    0.40%  834.44us         9  92.715us  8.0500us  178.64us  cudaMalloc\n",
            "                    0.32%  670.57us         9  74.507us  12.223us  116.93us  cudaFree\n",
            "                    0.19%  400.04us         1  400.04us  400.04us  400.04us  cuDeviceTotalMem\n",
            "                    0.11%  221.59us        16  13.849us  6.5120us  47.750us  cudaLaunchKernel\n",
            "                    0.07%  135.99us        96  1.4160us     147ns  55.632us  cuDeviceGetAttribute\n",
            "                    0.02%  33.349us         6  5.5580us  5.0710us  5.9910us  cudaEventRecord\n",
            "                    0.01%  26.080us         1  26.080us  26.080us  26.080us  cuDeviceGetName\n",
            "                    0.01%  20.218us         3  6.7390us  6.3640us  6.9320us  cudaEventSynchronize\n",
            "                    0.00%  5.6000us         3  1.8660us  1.7550us  2.0790us  cudaEventElapsedTime\n",
            "                    0.00%  3.3910us         1  3.3910us  3.3910us  3.3910us  cuDeviceGetPCIBusId\n",
            "                    0.00%  2.4200us         3     806ns     213ns  1.7250us  cuDeviceGetCount\n",
            "                    0.00%  1.1220us         2     561ns     360ns     762ns  cuDeviceGet\n",
            "                    0.00%     338ns         1     338ns     338ns     338ns  cuDeviceGetUuid\n"
          ],
          "name": "stdout"
        }
      ]
    },
    {
      "cell_type": "code",
      "metadata": {
        "id": "2I_PhpPzLa63",
        "colab_type": "code",
        "outputId": "72edaa7f-4917-4e67-d30e-f1af714d0e31",
        "colab": {
          "base_uri": "https://localhost:8080/",
          "height": 459
        }
      },
      "source": [
        "!nvprof ./output/validate_v2"
      ],
      "execution_count": 0,
      "outputs": [
        {
          "output_type": "stream",
          "text": [
            "==2132== NVPROF is profiling process 2132, command: ./output/validate_v2\n",
            "k=1: CORRECT \n",
            "k=4: CORRECT \n",
            "k=11: CORRECT \n",
            "==2132== Profiling application: ./output/validate_v2\n",
            "==2132== Profiling result:\n",
            "            Type  Time(%)      Time     Calls       Avg       Min       Max  Name\n",
            " GPU activities:   99.00%  53.830ms        16  3.3644ms  3.3268ms  3.3936ms  ising_kernel(double*, int*, int*, int)\n",
            "                    0.52%  283.23us         6  47.205us  1.8240us  92.704us  [CUDA memcpy HtoD]\n",
            "                    0.48%  258.56us         3  86.186us  85.888us  86.720us  [CUDA memcpy DtoH]\n",
            "      API calls:   76.94%  194.95ms         6  32.491ms     798ns  194.92ms  cudaEventCreate\n",
            "                   21.31%  54.000ms        32  1.6875ms  1.6200us  3.3976ms  cudaDeviceSynchronize\n",
            "                    0.67%  1.6934ms         9  188.15us  14.374us  320.60us  cudaMemcpy\n",
            "                    0.35%  884.41us         9  98.267us  7.8890us  167.42us  cudaMalloc\n",
            "                    0.28%  720.03us         9  80.003us  14.454us  134.76us  cudaFree\n",
            "                    0.22%  567.13us         1  567.13us  567.13us  567.13us  cuDeviceTotalMem\n",
            "                    0.12%  299.20us        16  18.699us  8.1440us  34.409us  cudaLaunchKernel\n",
            "                    0.07%  188.42us        96  1.9620us     151ns  79.904us  cuDeviceGetAttribute\n",
            "                    0.01%  33.653us         6  5.6080us  4.4440us  6.1450us  cudaEventRecord\n",
            "                    0.01%  25.050us         1  25.050us  25.050us  25.050us  cuDeviceGetName\n",
            "                    0.01%  19.584us         3  6.5280us  6.4070us  6.7630us  cudaEventSynchronize\n",
            "                    0.00%  5.6230us         3  1.8740us  1.7010us  2.0220us  cudaEventElapsedTime\n",
            "                    0.00%  2.5340us         1  2.5340us  2.5340us  2.5340us  cuDeviceGetPCIBusId\n",
            "                    0.00%  1.7870us         3     595ns     152ns  1.3140us  cuDeviceGetCount\n",
            "                    0.00%  1.2760us         2     638ns     234ns  1.0420us  cuDeviceGet\n",
            "                    0.00%     365ns         1     365ns     365ns     365ns  cuDeviceGetUuid\n"
          ],
          "name": "stdout"
        }
      ]
    },
    {
      "cell_type": "code",
      "metadata": {
        "id": "wiBV6QOyOyPP",
        "colab_type": "code",
        "colab": {}
      },
      "source": [
        "!nvprof ./output/validate_v3"
      ],
      "execution_count": 0,
      "outputs": []
    },
    {
      "cell_type": "code",
      "metadata": {
        "id": "dmJl8PiP3C4h",
        "colab_type": "code",
        "colab": {
          "base_uri": "https://localhost:8080/",
          "height": 109
        },
        "outputId": "bca522b0-171d-4c8a-dc6e-686dcb9b4681"
      },
      "source": [
        "!cuda-memcheck ./output/validate_v1 |more"
      ],
      "execution_count": 92,
      "outputs": [
        {
          "output_type": "stream",
          "text": [
            "k=1: CORRECT \n",
            "k=4: CORRECT \n",
            "k=11: CORRECT \n",
            "========= CUDA-MEMCHECK\n",
            "========= ERROR SUMMARY: 0 errors\n"
          ],
          "name": "stdout"
        }
      ]
    },
    {
      "cell_type": "code",
      "metadata": {
        "id": "KqrbEOzW3CuB",
        "colab_type": "code",
        "colab": {
          "base_uri": "https://localhost:8080/",
          "height": 109
        },
        "outputId": "acf411a9-3fe8-4ec5-bb76-8c5f7ccdfb48"
      },
      "source": [
        "!cuda-memcheck ./output/validate_v2 |more"
      ],
      "execution_count": 93,
      "outputs": [
        {
          "output_type": "stream",
          "text": [
            "k=1: CORRECT \n",
            "k=4: CORRECT \n",
            "k=11: CORRECT \n",
            "========= CUDA-MEMCHECK\n",
            "========= ERROR SUMMARY: 0 errors\n"
          ],
          "name": "stdout"
        }
      ]
    },
    {
      "cell_type": "code",
      "metadata": {
        "id": "5jch5rJ64r4-",
        "colab_type": "code",
        "outputId": "6691049a-75f5-4237-cd65-4703064a3d95",
        "colab": {
          "base_uri": "https://localhost:8080/",
          "height": 439
        }
      },
      "source": [
        "!cuda-memcheck ./output/validate_v3 |more"
      ],
      "execution_count": 94,
      "outputs": [
        {
          "output_type": "stream",
          "text": [
            "========= CUDA-MEMCHECK\n",
            "========= Program hit cudaErrorInvalidConfiguration (error 9) due to \"invalid co\n",
            "nfiguration argument\" on CUDA API call to cudaLaunchKernel. \n",
            "=========     Saved host backtrace up to driver entry point at error\n",
            "=========     Host Frame:/usr/lib64-nvidia/libcuda.so.1 [0x390513]\n",
            "=========     Host Frame:./output/validate_v3 [0x57ac5]\n",
            "=========     Host Frame:./output/validate_v3 [0x6dd0]\n",
            "=========     Host Frame:./output/validate_v3 [0x6c3f]\n",
            "=========     Host Frame:./output/validate_v3 [0x6c91]\n",
            "=========     Host Frame:./output/validate_v3 [0x6a04]\n",
            "=========     Host Frame:./output/validate_v3 [0x7211]\n",
            "=========     Host Frame:/lib/x86_64-linux-gnu/libc.so.6 (__libc_start_main + 0x\n",
            "e7) [0x21b97]\n",
            "=========     Host Frame:./output/validate_v3 [0x67ba]\n",
            "=========\n",
            "========= Program hit cudaErrorInvalidConfiguration (error 9) due to \"invalid co\n",
            "nfiguration argument\" on CUDA API call to cudaLaunchKernel. \n",
            "=========     Saved host backtrace up to driver entry point at error\n",
            "=========     Host Frame:/usr/lib64-nvidia/libcuda.so.1 [0x390513]\n",
            "=========     Host Frame:./output/validate_v3 [0x57ac5]\n",
            "=========     Host Frame:./output/validate_v3 [0x6dd0]\n",
            "=========     Host Frame:./output/validate_v3 [0x6c3f]\n",
            "=========     Host Frame:./output/validate_v3 [0x6c91]\n",
            "\u001b[K"
          ],
          "name": "stdout"
        }
      ]
    },
    {
      "cell_type": "markdown",
      "metadata": {
        "id": "B7NDRo8Pq4JB",
        "colab_type": "text"
      },
      "source": [
        "# Benchmark source\n"
      ]
    },
    {
      "cell_type": "code",
      "metadata": {
        "id": "hfOe3tGYYpa1",
        "colab_type": "code",
        "outputId": "b63acfbb-09f3-45f9-ec6e-9723c3681f5f",
        "colab": {
          "base_uri": "https://localhost:8080/",
          "height": 35
        }
      },
      "source": [
        "%%writefile benchmarks/benchmark_v0.c\n",
        "/*\n",
        "*       Benchmarking Sequential: Simulation of an Ising model in two dimensions of size nxn for k iterations, staring from a uniform random initial state\n",
        "*       Author:Tsalidis Georgios 27/12/2019\n",
        "*       gtsalidis@ece.auth.gr\n",
        "*/\n",
        "\n",
        "\n",
        "#include <stdio.h>\n",
        "#include <stdlib.h>\n",
        "#include <string.h>\n",
        "#include  <time.h>\n",
        "#include \"../inc/ising.h\"\n",
        "\n",
        "struct timespec start, finish;\n",
        "double elapsed;\n",
        "\n",
        "static int n[]={50,300,600,900,1400,1800,2500,3800,6000};//9\n",
        "static int k[]={1, 5, 10 , 30 ,60, 100};//6\n",
        "\n",
        "int main() {\n",
        "\n",
        "  printf(\"=====================BENCHMARKING SEQUENTIAL START=====================\\n\");\n",
        "\n",
        "  double weights[]={ 0.004,  0.016,  0.026,  0.016,   0.004,\n",
        "                       0.016,  0.071,  0.117,  0.071,   0.016,\n",
        "                       0.026,  0.117,    0  ,  0.117,   0.026,\n",
        "                       0.016,  0.071,  0.117,  0.071,   0.016,\n",
        "                       0.004,  0.016,  0.026,  0.016,   0.004};\n",
        "\n",
        "\n",
        "\n",
        "\n",
        "\n",
        "  for (int i = 0; i < 9; i++) {\n",
        "    for (int j = 0; j < 6; j++) {\n",
        "      FILE *pointerToFile;\n",
        "      int * sample;\n",
        "\n",
        "      sample=(int *)malloc((size_t)n[i]*n[i]*sizeof(int));\n",
        "      for (size_t ii = 0; ii < n[i]*n[i]; ii++) {\n",
        "        sample[ii]=(rand()%2 );\n",
        "        if(sample[ii]==0){\n",
        "          sample[ii]=-1;\n",
        "        }\n",
        "      }\n",
        "\n",
        "\n",
        "      clock_gettime(CLOCK_MONOTONIC, &start);\n",
        "      ising(sample, weights,k[j], n[i]);\n",
        "      clock_gettime(CLOCK_MONOTONIC, &finish);\n",
        "      elapsed = (finish.tv_sec - start.tv_sec);\n",
        "      elapsed += (finish.tv_nsec - start.tv_nsec) / 1000000000.0;\n",
        "\n",
        "      pointerToFile=fopen(\"benchmarks/results_v0.csv\",\"a\");\n",
        "      fprintf(pointerToFile,\"%d,%d,%lf\\n\",n[i],k[j],elapsed);\n",
        "      printf(\"Ising model evolution for n=%d, k=%d ,took %lf seconds! \\n\",n[i],k[j], elapsed );\n",
        "      free(sample);\n",
        "    }\n",
        "\n",
        "  }\n",
        "  printf(\"\\n\");\n",
        "\n",
        "  printf(\"=====================BENCHMARKING SEQUENTIAL END=====================\\n\");\n",
        "\n",
        "\n",
        "}"
      ],
      "execution_count": 106,
      "outputs": [
        {
          "output_type": "stream",
          "text": [
            "Overwriting benchmarks/benchmark_v0.c\n"
          ],
          "name": "stdout"
        }
      ]
    },
    {
      "cell_type": "code",
      "metadata": {
        "id": "7ZH8In7URs-x",
        "colab_type": "code",
        "outputId": "42a3c337-e670-47fc-8382-7ce4d08585ea",
        "colab": {
          "base_uri": "https://localhost:8080/",
          "height": 35
        }
      },
      "source": [
        "%%writefile benchmarks/benchmark_v1.cu\n",
        "/*\n",
        "*       Benchmarking GPU with one thread per moment \n",
        "*       Author:Tsalidis Georgios 2/1/2020\n",
        "*       gtsalidis@ece.auth.gr\n",
        "*/\n",
        "\n",
        "#include  <time.h>\n",
        "#include <iostream>\n",
        "#include <stdio.h>\n",
        "#include <stdlib.h>\n",
        "#include <string.h>\n",
        "#include \"../inc/ising.h\"\n",
        "\n",
        "struct timespec start, finish;\n",
        "double elapsed;\n",
        "\n",
        "\n",
        "static int n[]={50,300,600,900,1400,1800,2500,3800,6000};//9\n",
        "static int k[]={1, 5, 10 , 30 ,60, 100};//6\n",
        "\n",
        "\n",
        "int main() {\n",
        "\n",
        "  printf(\"=====================BENCHMARKING CUDA V1 START=====================\\n\");\n",
        "\n",
        "  double weights[]={ 0.004,  0.016,  0.026,  0.016,   0.004,\n",
        "                       0.016,  0.071,  0.117,  0.071,   0.016,\n",
        "                       0.026,  0.117,    0  ,  0.117,   0.026,\n",
        "                       0.016,  0.071,  0.117,  0.071,   0.016,\n",
        "                       0.004,  0.016,  0.026,  0.016,   0.004};\n",
        "\n",
        "\n",
        "  for (int i = 0; i < 9; i++) {\n",
        "    for (int j = 0; j < 6; j++) {\n",
        "      FILE *pointerToFile;\n",
        "      int * sample;\n",
        "\n",
        "      sample=(int *)malloc((size_t)n[i]*n[i]*sizeof(int));\n",
        "      for (size_t ii = 0; ii < n[i]*n[i]; ii++) {\n",
        "        sample[ii]=(rand()%2 );\n",
        "        if(sample[ii]==0){\n",
        "          sample[ii]=-1;\n",
        "        }\n",
        "      }\n",
        "\n",
        "\n",
        "      clock_gettime(CLOCK_MONOTONIC, &start);\n",
        "      ising(sample, weights,k[j], n[i]);\n",
        "      clock_gettime(CLOCK_MONOTONIC, &finish);\n",
        "      elapsed = (finish.tv_sec - start.tv_sec);\n",
        "      elapsed += (finish.tv_nsec - start.tv_nsec) / 1000000000.0;\n",
        "\n",
        "      pointerToFile=fopen(\"benchmarks/results_v1.csv\",\"a\");\n",
        "      fprintf(pointerToFile,\"%d,%d,%lf\\n\",n[i],k[j],elapsed);\n",
        "      printf(\"Ising model evolution for n=%d, k=%d ,took %lf seconds! \\n\",n[i],k[j], elapsed );\n",
        "      free(sample);\n",
        "    }\n",
        "\n",
        "  }\n",
        "  printf(\"\\n\");\n",
        "\n",
        "  printf(\"=====================BENCHMARKING CUDA V1 END=====================\\n\");\n",
        "\n",
        "\n",
        "}"
      ],
      "execution_count": 107,
      "outputs": [
        {
          "output_type": "stream",
          "text": [
            "Overwriting benchmarks/benchmark_v1.cu\n"
          ],
          "name": "stdout"
        }
      ]
    },
    {
      "cell_type": "code",
      "metadata": {
        "id": "Qkz3pycADBCq",
        "colab_type": "code",
        "outputId": "53abfd24-5e0b-482a-e0c3-f6a4f8fc5787",
        "colab": {
          "base_uri": "https://localhost:8080/",
          "height": 35
        }
      },
      "source": [
        "%%writefile benchmarks/benchmark_v2.cu\n",
        "/*\n",
        "*       Benchmarking GPU with one thread per moment \n",
        "*       Author:Tsalidis Georgios 2/1/2020\n",
        "*       gtsalidis@ece.auth.gr\n",
        "*/\n",
        "\n",
        "#include  <time.h>\n",
        "#include <iostream>\n",
        "#include <stdio.h>\n",
        "#include <stdlib.h>\n",
        "#include <string.h>\n",
        "#include \"../inc/ising.h\"\n",
        "\n",
        "struct timespec start, finish;\n",
        "double elapsed;\n",
        "\n",
        "static int n[]={50,300,600,900,1400,1800,2500,3800,6000};//9\n",
        "static int k[]={1, 5, 10 , 30 ,60, 100};//6\n",
        "\n",
        "int main() {\n",
        "\n",
        "\n",
        "  printf(\"=====================BENCHMARKING CUDA V2 START=====================\\n\");\n",
        "  double weights[]={ 0.004,  0.016,  0.026,  0.016,   0.004,\n",
        "                       0.016,  0.071,  0.117,  0.071,   0.016,\n",
        "                       0.026,  0.117,    0  ,  0.117,   0.026,\n",
        "                       0.016,  0.071,  0.117,  0.071,   0.016,\n",
        "                       0.004,  0.016,  0.026,  0.016,   0.004};\n",
        "\n",
        "\n",
        "\n",
        "\n",
        "\n",
        "  // clock_t t;\n",
        "  // double time_taken;\n",
        "\n",
        "  for (int i = 0; i < 9; i++) {\n",
        "    for (int j = 0; j < 6; j++) {\n",
        "      FILE *pointerToFile;\n",
        "      int * sample;\n",
        "\n",
        "      sample=(int *)malloc((size_t)n[i]*n[i]*sizeof(int));\n",
        "      for (size_t ii = 0; ii < n[i]*n[i]; ii++) {\n",
        "        sample[ii]=(rand()%2 );\n",
        "        if(sample[ii]==0){\n",
        "          sample[ii]=-1;\n",
        "        }\n",
        "      }\n",
        "\n",
        "\n",
        "      clock_gettime(CLOCK_MONOTONIC, &start);\n",
        "      ising(sample, weights,k[j], n[i]);\n",
        "      clock_gettime(CLOCK_MONOTONIC, &finish);\n",
        "      elapsed = (finish.tv_sec - start.tv_sec);\n",
        "      elapsed += (finish.tv_nsec - start.tv_nsec) / 1000000000.0;\n",
        "\n",
        "      pointerToFile=fopen(\"benchmarks/results_v2.csv\",\"a\");\n",
        "      fprintf(pointerToFile,\"%d,%d,%lf\\n\",n[i],k[j],elapsed);\n",
        "      printf(\"Ising model evolution for n=%d, k=%d ,took %lf seconds! \\n\",n[i],k[j], elapsed );\n",
        "      free(sample);\n",
        "    }\n",
        "\n",
        "  }\n",
        "  printf(\"\\n\");\n",
        "\n",
        "  printf(\"=====================BENCHMARKING CUDA V2 END=====================\\n\");\n",
        "\n",
        "\n",
        "}"
      ],
      "execution_count": 108,
      "outputs": [
        {
          "output_type": "stream",
          "text": [
            "Overwriting benchmarks/benchmark_v2.cu\n"
          ],
          "name": "stdout"
        }
      ]
    },
    {
      "cell_type": "code",
      "metadata": {
        "id": "as0qBwIrC6hG",
        "colab_type": "code",
        "outputId": "d536af2d-2d26-4f08-c78c-b92175cc9cea",
        "colab": {
          "base_uri": "https://localhost:8080/",
          "height": 35
        }
      },
      "source": [
        "%%writefile benchmarks/benchmark_v3.cu\n",
        "/*\n",
        "*       Benchmarking GPU with one thread per moment \n",
        "*       Author:Tsalidis Georgios 2/1/2020\n",
        "*       gtsalidis@ece.auth.gr\n",
        "*/\n",
        "\n",
        "#include  <time.h>\n",
        "#include <iostream>\n",
        "#include <stdio.h>\n",
        "#include <stdlib.h>\n",
        "#include <string.h>\n",
        "#include \"../inc/ising.h\"\n",
        "\n",
        "struct timespec start, finish;\n",
        "double elapsed;\n",
        "\n",
        "static int n[]={50,300,600,900,1400,1800,2500,3800,6000};//9\n",
        "static int k[]={1, 5, 10 , 30 ,60, 100};//6\n",
        "\n",
        "int main() {\n",
        "\n",
        "\n",
        "  printf(\"=====================BENCHMARKING CUDA 3 START=====================\\n\");\n",
        "  double weights[]={ 0.004,  0.016,  0.026,  0.016,   0.004,\n",
        "                       0.016,  0.071,  0.117,  0.071,   0.016,\n",
        "                       0.026,  0.117,    0  ,  0.117,   0.026,\n",
        "                       0.016,  0.071,  0.117,  0.071,   0.016,\n",
        "                       0.004,  0.016,  0.026,  0.016,   0.004};\n",
        "\n",
        "\n",
        "\n",
        "\n",
        "\n",
        "  // clock_t t;\n",
        "  // double time_taken;\n",
        "\n",
        "  for (int i = 0; i < 9; i++) {\n",
        "    for (int j = 0; j < 6; j++) {\n",
        "      FILE *pointerToFile;\n",
        "      int * sample;\n",
        "\n",
        "      sample=(int *)malloc((size_t)n[i]*n[i]*sizeof(int));\n",
        "      for (size_t ii = 0; ii < n[i]*n[i]; ii++) {\n",
        "        sample[ii]=(rand()%2 );\n",
        "        if(sample[ii]==0){\n",
        "          sample[ii]=-1;\n",
        "        }\n",
        "      }\n",
        "\n",
        "\n",
        "      clock_gettime(CLOCK_MONOTONIC, &start);\n",
        "      ising(sample, weights,k[j], n[i]);\n",
        "      clock_gettime(CLOCK_MONOTONIC, &finish);\n",
        "      elapsed = (finish.tv_sec - start.tv_sec);\n",
        "      elapsed += (finish.tv_nsec - start.tv_nsec) / 1000000000.0;\n",
        "\n",
        "      pointerToFile=fopen(\"benchmarks/results_v3.csv\",\"a\");\n",
        "      fprintf(pointerToFile,\"%d,%d,%lf\\n\",n[i],k[j],elapsed);\n",
        "      printf(\"Ising model evolution for n=%d, k=%d ,took %lf seconds! \\n\",n[i],k[j], elapsed );\n",
        "      free(sample);\n",
        "    }\n",
        "\n",
        "  }\n",
        "  printf(\"\\n\");\n",
        "\n",
        "  printf(\"=====================BENCHMARKING CUDA V3 END=====================\\n\");\n",
        "\n",
        "\n",
        "}"
      ],
      "execution_count": 109,
      "outputs": [
        {
          "output_type": "stream",
          "text": [
            "Overwriting benchmarks/benchmark_v3.cu\n"
          ],
          "name": "stdout"
        }
      ]
    },
    {
      "cell_type": "markdown",
      "metadata": {
        "id": "WPAHMIBk3luD",
        "colab_type": "text"
      },
      "source": [
        "# Run Benchmarks and Store Results"
      ]
    },
    {
      "cell_type": "code",
      "metadata": {
        "id": "cU4qwxO23rGZ",
        "colab_type": "code",
        "colab": {
          "base_uri": "https://localhost:8080/",
          "height": 1000
        },
        "outputId": "f35c8418-a16a-4ee5-f444-d2f5c61ff92e"
      },
      "source": [
        "!g++ benchmarks/benchmark_v0.c src/ising-sequential.c -o benchmarks/benchmark_v0 && ./benchmarks/benchmark_v0"
      ],
      "execution_count": 113,
      "outputs": [
        {
          "output_type": "stream",
          "text": [
            "=====================BENCHMARKING SEQUENTIAL START=====================\n",
            "Ising model evolution for n=50, k=1 ,took 0.000630 seconds! \n",
            "Ising model evolution for n=50, k=5 ,took 0.003312 seconds! \n",
            "Ising model evolution for n=50, k=10 ,took 0.006908 seconds! \n",
            "Ising model evolution for n=50, k=30 ,took 0.019869 seconds! \n",
            "Ising model evolution for n=50, k=60 ,took 0.039095 seconds! \n",
            "Ising model evolution for n=50, k=100 ,took 0.071215 seconds! \n",
            "Ising model evolution for n=300, k=1 ,took 0.024534 seconds! \n",
            "Ising model evolution for n=300, k=5 ,took 0.120082 seconds! \n",
            "Ising model evolution for n=300, k=10 ,took 0.242228 seconds! \n",
            "Ising model evolution for n=300, k=30 ,took 0.718017 seconds! \n",
            "Ising model evolution for n=300, k=60 ,took 1.437095 seconds! \n",
            "Ising model evolution for n=300, k=100 ,took 2.398209 seconds! \n",
            "Ising model evolution for n=600, k=1 ,took 0.101524 seconds! \n",
            "Ising model evolution for n=600, k=5 ,took 0.490754 seconds! \n",
            "Ising model evolution for n=600, k=10 ,took 0.972159 seconds! \n",
            "Ising model evolution for n=600, k=30 ,took 2.891156 seconds! \n",
            "Ising model evolution for n=600, k=60 ,took 5.756291 seconds! \n",
            "Ising model evolution for n=600, k=100 ,took 9.543911 seconds! \n",
            "Ising model evolution for n=900, k=1 ,took 0.243493 seconds! \n",
            "Ising model evolution for n=900, k=5 ,took 1.108368 seconds! \n",
            "Ising model evolution for n=900, k=10 ,took 2.244617 seconds! \n",
            "Ising model evolution for n=900, k=30 ,took 6.578587 seconds! \n",
            "Ising model evolution for n=900, k=60 ,took 13.352136 seconds! \n",
            "Ising model evolution for n=900, k=100 ,took 21.940031 seconds! \n",
            "Ising model evolution for n=1400, k=1 ,took 0.562727 seconds! \n",
            "Ising model evolution for n=1400, k=5 ,took 2.761948 seconds! \n",
            "Ising model evolution for n=1400, k=10 ,took 5.466149 seconds! \n",
            "Ising model evolution for n=1400, k=30 ,took 16.337453 seconds! \n",
            "Ising model evolution for n=1400, k=60 ,took 32.455761 seconds! \n",
            "Ising model evolution for n=1400, k=100 ,took 54.606124 seconds! \n",
            "Ising model evolution for n=1800, k=1 ,took 0.906738 seconds! \n",
            "Ising model evolution for n=1800, k=5 ,took 4.453557 seconds! \n",
            "Ising model evolution for n=1800, k=10 ,took 8.967402 seconds! \n",
            "Ising model evolution for n=1800, k=30 ,took 26.502007 seconds! \n",
            "Ising model evolution for n=1800, k=60 ,took 52.008806 seconds! \n",
            "Ising model evolution for n=1800, k=100 ,took 85.496543 seconds! \n",
            "Ising model evolution for n=2500, k=1 ,took 1.692827 seconds! \n",
            "Ising model evolution for n=2500, k=5 ,took 8.252546 seconds! \n",
            "Ising model evolution for n=2500, k=10 ,took 16.538445 seconds! \n",
            "Ising model evolution for n=2500, k=30 ,took 49.554784 seconds! \n",
            "Ising model evolution for n=2500, k=60 ,took 98.111470 seconds! \n",
            "Ising model evolution for n=2500, k=100 ,took 162.977957 seconds! \n",
            "Ising model evolution for n=3800, k=1 ,took 4.008661 seconds! \n",
            "Ising model evolution for n=3800, k=5 ,took 19.524169 seconds! \n",
            "Ising model evolution for n=3800, k=10 ,took 39.244587 seconds! \n",
            "Ising model evolution for n=3800, k=30 ,took 116.660415 seconds! \n",
            "Ising model evolution for n=3800, k=60 ,took 235.191242 seconds! \n",
            "Ising model evolution for n=3800, k=100 ,took 404.765294 seconds! \n",
            "Ising model evolution for n=6000, k=1 ,took 11.923965 seconds! \n",
            "Ising model evolution for n=6000, k=5 ,took 56.898264 seconds! \n",
            "Ising model evolution for n=6000, k=10 ,took 114.034169 seconds! \n",
            "Ising model evolution for n=6000, k=30 ,took 337.512529 seconds! \n",
            "Ising model evolution for n=6000, k=60 ,took 658.998997 seconds! \n",
            "Ising model evolution for n=6000, k=100 ,took 1066.367734 seconds! \n",
            "\n",
            "=====================BENCHMARKING SEQUENTIAL END=====================\n"
          ],
          "name": "stdout"
        }
      ]
    },
    {
      "cell_type": "code",
      "metadata": {
        "id": "BoKzWFAX3q2A",
        "colab_type": "code",
        "colab": {
          "base_uri": "https://localhost:8080/",
          "height": 1000
        },
        "outputId": "3f84beba-fbf8-4e65-d145-8a59cc65dbb8"
      },
      "source": [
        "!nvcc benchmarks/benchmark_v1.cu src/ising-v1.cu -o benchmarks/benchmark_v1 && ./benchmarks/benchmark_v1"
      ],
      "execution_count": 110,
      "outputs": [
        {
          "output_type": "stream",
          "text": [
            "=====================BENCHMARKING CUDA V1 START=====================\n",
            "Ising model evolution for n=50, k=1 ,took 0.142608 seconds! \n",
            "Ising model evolution for n=50, k=5 ,took 0.000404 seconds! \n",
            "Ising model evolution for n=50, k=10 ,took 0.000478 seconds! \n",
            "Ising model evolution for n=50, k=30 ,took 0.000891 seconds! \n",
            "Ising model evolution for n=50, k=60 ,took 0.001456 seconds! \n",
            "Ising model evolution for n=50, k=100 ,took 0.002257 seconds! \n",
            "Ising model evolution for n=300, k=1 ,took 0.000587 seconds! \n",
            "Ising model evolution for n=300, k=5 ,took 0.001103 seconds! \n",
            "Ising model evolution for n=300, k=10 ,took 0.001741 seconds! \n",
            "Ising model evolution for n=300, k=30 ,took 0.004173 seconds! \n",
            "Ising model evolution for n=300, k=60 ,took 0.008473 seconds! \n",
            "Ising model evolution for n=300, k=100 ,took 0.012973 seconds! \n",
            "Ising model evolution for n=600, k=1 ,took 0.001554 seconds! \n",
            "Ising model evolution for n=600, k=5 ,took 0.003354 seconds! \n",
            "Ising model evolution for n=600, k=10 ,took 0.005655 seconds! \n",
            "Ising model evolution for n=600, k=30 ,took 0.014854 seconds! \n",
            "Ising model evolution for n=600, k=60 ,took 0.030223 seconds! \n",
            "Ising model evolution for n=600, k=100 ,took 0.046975 seconds! \n",
            "Ising model evolution for n=900, k=1 ,took 0.002964 seconds! \n",
            "Ising model evolution for n=900, k=5 ,took 0.007053 seconds! \n",
            "Ising model evolution for n=900, k=10 ,took 0.012137 seconds! \n",
            "Ising model evolution for n=900, k=30 ,took 0.025267 seconds! \n",
            "Ising model evolution for n=900, k=60 ,took 0.048318 seconds! \n",
            "Ising model evolution for n=900, k=100 ,took 0.079587 seconds! \n",
            "Ising model evolution for n=1400, k=1 ,took 0.004870 seconds! \n",
            "Ising model evolution for n=1400, k=5 ,took 0.008739 seconds! \n",
            "Ising model evolution for n=1400, k=10 ,took 0.014259 seconds! \n",
            "Ising model evolution for n=1400, k=30 ,took 0.034673 seconds! \n",
            "Ising model evolution for n=1400, k=60 ,took 0.066103 seconds! \n",
            "Ising model evolution for n=1400, k=100 ,took 0.094039 seconds! \n",
            "Ising model evolution for n=1800, k=1 ,took 0.007286 seconds! \n",
            "Ising model evolution for n=1800, k=5 ,took 0.013085 seconds! \n",
            "Ising model evolution for n=1800, k=10 ,took 0.021021 seconds! \n",
            "Ising model evolution for n=1800, k=30 ,took 0.049895 seconds! \n",
            "Ising model evolution for n=1800, k=60 ,took 0.094279 seconds! \n",
            "Ising model evolution for n=1800, k=100 ,took 0.152624 seconds! \n",
            "Ising model evolution for n=2500, k=1 ,took 0.014089 seconds! \n",
            "Ising model evolution for n=2500, k=5 ,took 0.025686 seconds! \n",
            "Ising model evolution for n=2500, k=10 ,took 0.039649 seconds! \n",
            "Ising model evolution for n=2500, k=30 ,took 0.096535 seconds! \n",
            "Ising model evolution for n=2500, k=60 ,took 0.181004 seconds! \n",
            "Ising model evolution for n=2500, k=100 ,took 0.292796 seconds! \n",
            "Ising model evolution for n=3800, k=1 ,took 0.032399 seconds! \n",
            "Ising model evolution for n=3800, k=5 ,took 0.058707 seconds! \n",
            "Ising model evolution for n=3800, k=10 ,took 0.091181 seconds! \n",
            "Ising model evolution for n=3800, k=30 ,took 0.221260 seconds! \n",
            "Ising model evolution for n=3800, k=60 ,took 0.415153 seconds! \n",
            "Ising model evolution for n=3800, k=100 ,took 0.673771 seconds! \n",
            "Ising model evolution for n=6000, k=1 ,took 0.078744 seconds! \n",
            "Ising model evolution for n=6000, k=5 ,took 0.149464 seconds! \n",
            "Ising model evolution for n=6000, k=10 ,took 0.303840 seconds! \n",
            "Ising model evolution for n=6000, k=30 ,took 0.548503 seconds! \n",
            "Ising model evolution for n=6000, k=60 ,took 1.034989 seconds! \n",
            "Ising model evolution for n=6000, k=100 ,took 1.677039 seconds! \n",
            "\n",
            "=====================BENCHMARKING CUDA V1 END=====================\n"
          ],
          "name": "stdout"
        }
      ]
    },
    {
      "cell_type": "code",
      "metadata": {
        "id": "1SAClyzA3qo7",
        "colab_type": "code",
        "colab": {
          "base_uri": "https://localhost:8080/",
          "height": 1000
        },
        "outputId": "805d3454-fb1c-49ff-8330-3dde4b8ec933"
      },
      "source": [
        "!nvcc benchmarks/benchmark_v2.cu src/ising-v2.cu -o benchmarks/benchmark_v2 && ./benchmarks/benchmark_v2"
      ],
      "execution_count": 111,
      "outputs": [
        {
          "output_type": "stream",
          "text": [
            "=====================BENCHMARKING CUDA V2 START=====================\n",
            "Ising model evolution for n=50, k=1 ,took 0.125639 seconds! \n",
            "Ising model evolution for n=50, k=5 ,took 0.001108 seconds! \n",
            "Ising model evolution for n=50, k=10 ,took 0.001969 seconds! \n",
            "Ising model evolution for n=50, k=30 ,took 0.005241 seconds! \n",
            "Ising model evolution for n=50, k=60 ,took 0.010068 seconds! \n",
            "Ising model evolution for n=50, k=100 ,took 0.016471 seconds! \n",
            "Ising model evolution for n=300, k=1 ,took 0.002389 seconds! \n",
            "Ising model evolution for n=300, k=5 ,took 0.009881 seconds! \n",
            "Ising model evolution for n=300, k=10 ,took 0.019279 seconds! \n",
            "Ising model evolution for n=300, k=30 ,took 0.057024 seconds! \n",
            "Ising model evolution for n=300, k=60 ,took 0.076371 seconds! \n",
            "Ising model evolution for n=300, k=100 ,took 0.110381 seconds! \n",
            "Ising model evolution for n=600, k=1 ,took 0.003714 seconds! \n",
            "Ising model evolution for n=600, k=5 ,took 0.014296 seconds! \n",
            "Ising model evolution for n=600, k=10 ,took 0.018339 seconds! \n",
            "Ising model evolution for n=600, k=30 ,took 0.054174 seconds! \n",
            "Ising model evolution for n=600, k=60 ,took 0.105506 seconds! \n",
            "Ising model evolution for n=600, k=100 ,took 0.174216 seconds! \n",
            "Ising model evolution for n=900, k=1 ,took 0.004443 seconds! \n",
            "Ising model evolution for n=900, k=5 ,took 0.015097 seconds! \n",
            "Ising model evolution for n=900, k=10 ,took 0.028745 seconds! \n",
            "Ising model evolution for n=900, k=30 ,took 0.081526 seconds! \n",
            "Ising model evolution for n=900, k=60 ,took 0.160916 seconds! \n",
            "Ising model evolution for n=900, k=100 ,took 0.265602 seconds! \n",
            "Ising model evolution for n=1400, k=1 ,took 0.007979 seconds! \n",
            "Ising model evolution for n=1400, k=5 ,took 0.025411 seconds! \n",
            "Ising model evolution for n=1400, k=10 ,took 0.047516 seconds! \n",
            "Ising model evolution for n=1400, k=30 ,took 0.135436 seconds! \n",
            "Ising model evolution for n=1400, k=60 ,took 0.266700 seconds! \n",
            "Ising model evolution for n=1400, k=100 ,took 0.442224 seconds! \n",
            "Ising model evolution for n=1800, k=1 ,took 0.011550 seconds! \n",
            "Ising model evolution for n=1800, k=5 ,took 0.034143 seconds! \n",
            "Ising model evolution for n=1800, k=10 ,took 0.062075 seconds! \n",
            "Ising model evolution for n=1800, k=30 ,took 0.175381 seconds! \n",
            "Ising model evolution for n=1800, k=60 ,took 0.344919 seconds! \n",
            "Ising model evolution for n=1800, k=100 ,took 0.570419 seconds! \n",
            "Ising model evolution for n=2500, k=1 ,took 0.019520 seconds! \n",
            "Ising model evolution for n=2500, k=5 ,took 0.051177 seconds! \n",
            "Ising model evolution for n=2500, k=10 ,took 0.092132 seconds! \n",
            "Ising model evolution for n=2500, k=30 ,took 0.253393 seconds! \n",
            "Ising model evolution for n=2500, k=60 ,took 0.494755 seconds! \n",
            "Ising model evolution for n=2500, k=100 ,took 0.816675 seconds! \n",
            "Ising model evolution for n=3800, k=1 ,took 0.038018 seconds! \n",
            "Ising model evolution for n=3800, k=5 ,took 0.089296 seconds! \n",
            "Ising model evolution for n=3800, k=10 ,took 0.152199 seconds! \n",
            "Ising model evolution for n=3800, k=30 ,took 0.402309 seconds! \n",
            "Ising model evolution for n=3800, k=60 ,took 0.776910 seconds! \n",
            "Ising model evolution for n=3800, k=100 ,took 1.275354 seconds! \n",
            "Ising model evolution for n=6000, k=1 ,took 0.093129 seconds! \n",
            "Ising model evolution for n=6000, k=5 ,took 0.279465 seconds! \n",
            "Ising model evolution for n=6000, k=10 ,took 0.348377 seconds! \n",
            "Ising model evolution for n=6000, k=30 ,took 0.916644 seconds! \n",
            "Ising model evolution for n=6000, k=60 ,took 1.770081 seconds! \n",
            "Ising model evolution for n=6000, k=100 ,took 2.906498 seconds! \n",
            "\n",
            "=====================BENCHMARKING CUDA V2 END=====================\n"
          ],
          "name": "stdout"
        }
      ]
    },
    {
      "cell_type": "code",
      "metadata": {
        "id": "2-f5IIse3qcL",
        "colab_type": "code",
        "colab": {
          "base_uri": "https://localhost:8080/",
          "height": 1000
        },
        "outputId": "c99eebb2-edcc-4a83-d4c6-697ba5dc13b5"
      },
      "source": [
        "!nvcc benchmarks/benchmark_v3.cu src/ising-v3.cu -o benchmarks/benchmark_v3 && ./benchmarks/benchmark_v3"
      ],
      "execution_count": 112,
      "outputs": [
        {
          "output_type": "stream",
          "text": [
            "=====================BENCHMARKING CUDA 3 START=====================\n",
            "Ising model evolution for n=50, k=1 ,took 0.126721 seconds! \n",
            "Ising model evolution for n=50, k=5 ,took 0.000280 seconds! \n",
            "Ising model evolution for n=50, k=10 ,took 0.000307 seconds! \n",
            "Ising model evolution for n=50, k=30 ,took 0.000327 seconds! \n",
            "Ising model evolution for n=50, k=60 ,took 0.000380 seconds! \n",
            "Ising model evolution for n=50, k=100 ,took 0.000468 seconds! \n",
            "Ising model evolution for n=300, k=1 ,took 0.000502 seconds! \n",
            "Ising model evolution for n=300, k=5 ,took 0.000569 seconds! \n",
            "Ising model evolution for n=300, k=10 ,took 0.000592 seconds! \n",
            "Ising model evolution for n=300, k=30 ,took 0.000604 seconds! \n",
            "Ising model evolution for n=300, k=60 ,took 0.000579 seconds! \n",
            "Ising model evolution for n=300, k=100 ,took 0.000712 seconds! \n",
            "Ising model evolution for n=600, k=1 ,took 0.001199 seconds! \n",
            "Ising model evolution for n=600, k=5 ,took 0.001280 seconds! \n",
            "Ising model evolution for n=600, k=10 ,took 0.001148 seconds! \n",
            "Ising model evolution for n=600, k=30 ,took 0.001245 seconds! \n",
            "Ising model evolution for n=600, k=60 ,took 0.001250 seconds! \n",
            "Ising model evolution for n=600, k=100 ,took 0.001286 seconds! \n",
            "Ising model evolution for n=900, k=1 ,took 0.002114 seconds! \n",
            "Ising model evolution for n=900, k=5 ,took 0.002245 seconds! \n",
            "Ising model evolution for n=900, k=10 ,took 0.002112 seconds! \n",
            "Ising model evolution for n=900, k=30 ,took 0.002429 seconds! \n",
            "Ising model evolution for n=900, k=60 ,took 0.002333 seconds! \n",
            "Ising model evolution for n=900, k=100 ,took 0.002403 seconds! \n",
            "Ising model evolution for n=1400, k=1 ,took 0.003949 seconds! \n",
            "Ising model evolution for n=1400, k=5 ,took 0.004192 seconds! \n",
            "Ising model evolution for n=1400, k=10 ,took 0.004185 seconds! \n",
            "Ising model evolution for n=1400, k=30 ,took 0.004012 seconds! \n",
            "Ising model evolution for n=1400, k=60 ,took 0.004223 seconds! \n",
            "Ising model evolution for n=1400, k=100 ,took 0.004002 seconds! \n",
            "Ising model evolution for n=1800, k=1 ,took 0.006358 seconds! \n",
            "Ising model evolution for n=1800, k=5 ,took 0.006741 seconds! \n",
            "Ising model evolution for n=1800, k=10 ,took 0.005972 seconds! \n",
            "Ising model evolution for n=1800, k=30 ,took 0.006123 seconds! \n",
            "Ising model evolution for n=1800, k=60 ,took 0.006426 seconds! \n",
            "Ising model evolution for n=1800, k=100 ,took 0.006735 seconds! \n",
            "Ising model evolution for n=2500, k=1 ,took 0.013170 seconds! \n",
            "Ising model evolution for n=2500, k=5 ,took 0.011829 seconds! \n",
            "Ising model evolution for n=2500, k=10 ,took 0.012396 seconds! \n",
            "Ising model evolution for n=2500, k=30 ,took 0.011316 seconds! \n",
            "Ising model evolution for n=2500, k=60 ,took 0.011816 seconds! \n",
            "Ising model evolution for n=2500, k=100 ,took 0.012246 seconds! \n",
            "Ising model evolution for n=3800, k=1 ,took 0.025229 seconds! \n",
            "Ising model evolution for n=3800, k=5 ,took 0.026088 seconds! \n",
            "Ising model evolution for n=3800, k=10 ,took 0.026490 seconds! \n",
            "Ising model evolution for n=3800, k=30 ,took 0.026003 seconds! \n",
            "Ising model evolution for n=3800, k=60 ,took 0.026231 seconds! \n",
            "Ising model evolution for n=3800, k=100 ,took 0.025873 seconds! \n",
            "Ising model evolution for n=6000, k=1 ,took 0.062450 seconds! \n",
            "Ising model evolution for n=6000, k=5 ,took 0.063076 seconds! \n",
            "Ising model evolution for n=6000, k=10 ,took 0.063732 seconds! \n",
            "Ising model evolution for n=6000, k=30 ,took 0.062516 seconds! \n",
            "Ising model evolution for n=6000, k=60 ,took 0.063037 seconds! \n",
            "Ising model evolution for n=6000, k=100 ,took 0.062860 seconds! \n",
            "\n",
            "=====================BENCHMARKING CUDA V3 END=====================\n"
          ],
          "name": "stdout"
        }
      ]
    },
    {
      "cell_type": "markdown",
      "metadata": {
        "id": "diU-jH4BmuA0",
        "colab_type": "text"
      },
      "source": [
        "# MakeFile"
      ]
    },
    {
      "cell_type": "code",
      "metadata": {
        "id": "eBVv-qTL4awR",
        "colab_type": "code",
        "colab": {}
      },
      "source": [
        "#VALIDATION MAKEFILE: copy Makefile to create libraries\n",
        "!cp -r /content/gdrive/My\\ Drive/ising/val/Makefile /content/"
      ],
      "execution_count": 0,
      "outputs": []
    },
    {
      "cell_type": "code",
      "metadata": {
        "id": "WDD_wAV0GRza",
        "colab_type": "code",
        "colab": {
          "base_uri": "https://localhost:8080/",
          "height": 311
        },
        "outputId": "ba710994-5fc9-4cb9-d21c-ea1bc3db5eee"
      },
      "source": [
        "#validate all versions with all\n",
        "!make all"
      ],
      "execution_count": 162,
      "outputs": [
        {
          "output_type": "stream",
          "text": [
            "g++ src/ising-sequential.c validation/main_validate.c -o validate_v0.o  && ./validate_v0.o\n",
            "k=1: CORRECT \n",
            "k=4: CORRECT \n",
            "k=11: CORRECT \n",
            "nvcc src/ising-v1.cu validation/main_validate_cuda.cu -o validate_v1.o && ./validate_v1.o\n",
            "k=1: CORRECT \n",
            "k=4: CORRECT \n",
            "k=11: CORRECT \n",
            "nvcc src/ising-v2.cu validation/main_validate_cuda.cu -o validate_v2.o && ./validate_v2.o\n",
            "k=1: CORRECT \n",
            "k=4: CORRECT \n",
            "k=11: CORRECT \n",
            "nvcc src/ising-v3.cu validation/main_validate_cuda.cu -o validate_v3.o && ./validate_v3.o\n",
            "k=1: WRONG \n",
            "k=4: WRONG \n",
            "k=11: WRONG \n"
          ],
          "name": "stdout"
        }
      ]
    },
    {
      "cell_type": "code",
      "metadata": {
        "id": "iTp03R7WVsZ3",
        "colab_type": "code",
        "colab": {
          "base_uri": "https://localhost:8080/",
          "height": 35
        },
        "outputId": "0ce0fe52-40b3-4178-d752-287b090ef989"
      },
      "source": [
        "!make clean"
      ],
      "execution_count": 163,
      "outputs": [
        {
          "output_type": "stream",
          "text": [
            "rm -f  *.o lib/*.a v0 v1 v2 v3 \n"
          ],
          "name": "stdout"
        }
      ]
    }
  ]
}